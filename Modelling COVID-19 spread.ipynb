{
 "cells": [
  {
   "cell_type": "code",
   "execution_count": 1,
   "metadata": {},
   "outputs": [
    {
     "name": "stderr",
     "output_type": "stream",
     "text": [
      "/home/tarun/.pyenv/versions/3.7.0/lib/python3.7/importlib/_bootstrap.py:219: RuntimeWarning: numpy.ufunc size changed, may indicate binary incompatibility. Expected 192 from C header, got 216 from PyObject\n",
      "  return f(*args, **kwds)\n"
     ]
    }
   ],
   "source": [
    "from mesa import Agent, Model\n",
    "from mesa.space import SingleGrid\n",
    "from mesa.time import RandomActivation\n",
    "from mesa.datacollection import DataCollector\n",
    "import random\n",
    "from enum import Enum"
   ]
  },
  {
   "cell_type": "markdown",
   "metadata": {},
   "source": [
    "I was curious about how fast the COVID-19 spread all over the world. So I decided to model the spread using the python agent-based modelling library called **mesa**. Mesa already provides an example of [Virus on network](https://github.com/projectmesa/mesa/blob/master/examples/virus_on_network/virus_on_network), which we'll be extending to fit our scenario."
   ]
  },
  {
   "cell_type": "code",
   "execution_count": 2,
   "metadata": {},
   "outputs": [],
   "source": [
    "class State(Enum):\n",
    "    SUSCEPTIBLE = 0\n",
    "    INFECTED = 1\n",
    "    RESISTANT = 2\n",
    "    CURED = 3"
   ]
  },
  {
   "cell_type": "code",
   "execution_count": 54,
   "metadata": {},
   "outputs": [],
   "source": [
    "#x_max = can i get this from model? \n",
    "#y_max = \n",
    "def compute_state(agent):\n",
    "    '''\n",
    "    Assumptions:\n",
    "    - Only immediate neighbors can infect\n",
    "    - One infected in immediate neighbors is equivalent for the central agent as all of them infected\n",
    "    '''\n",
    "    if agent.state in [State.RESISTANT or State.CURED]:\n",
    "        return\n",
    "    elif agent.state == State.SUSCEPTIBLE:\n",
    "        # Can get infected from the already infected\n",
    "        grid_ = agent.model.grid\n",
    "        inf_prob_single = agent.model.infection_spread_probab\n",
    "        for nbr in grid_.iter_cell_list_contents(grid_.get_neighborhood(agent.pos, moore=True, include_center=False)):\n",
    "            if nbr.state == State.INFECTED:\n",
    "                chance_spread = agent.model.random.random()\n",
    "                if(chance_spread < inf_prob_single):\n",
    "                    agent.state = State.INFECTED\n",
    "                    break   \n",
    "    else:\n",
    "        # Can get tested-for, quarantined and cured\n",
    "        if agent.model.random.random() < agent.model.testing_probab:\n",
    "            agent.state = State.CURED\n",
    "        \n",
    "    \n",
    "class Person(Agent):\n",
    "    def __init__(self, unique_id, model, state):\n",
    "        super().__init__(unique_id, model)\n",
    "        self.state = state\n",
    "    \n",
    "    def move(self):\n",
    "        possible_destinations = self.model.grid.get_neighborhood(self.pos, moore=True, include_center=False)\n",
    "        empty_dest = [dest for dest in possible_destinations if self.model.grid.is_cell_empty(dest)]\n",
    "        new_pos = self.random.choice(empty_dest)\n",
    "        self.model.grid.move_agent(self, new_pos)\n",
    "    \n",
    "    def step(self):\n",
    "        self.move()"
   ]
  },
  {
   "cell_type": "code",
   "execution_count": 47,
   "metadata": {},
   "outputs": [],
   "source": [
    "def count_population(model):\n",
    "    sus, inf, res, cur = 0,0,0,0\n",
    "    for agent in model.schedule.agents:\n",
    "        if agent.state == State.SUSCEPTIBLE:\n",
    "            sus+=1\n",
    "        elif agent.state == State.INFECTED:\n",
    "            inf+=1\n",
    "        elif agent.state == State.RESISTANT:\n",
    "            res+=1\n",
    "        else:\n",
    "            cur+=1\n",
    "    model.state = [sus, inf, res, cur]\n",
    "    if inf == 0:\n",
    "        model.running = False\n",
    "    return\n",
    "\n",
    "class Earth(Model):\n",
    "    \"\"\"\n",
    "    Earth as a 2D grid.\n",
    "    initial_state = [susceptible, infected, resistant, cured]\n",
    "    These 4 values should sum to N.\n",
    "    \"\"\"\n",
    "    def __init__(self, N, width, height, infection_spread_probab, testing_probab, initial_state):\n",
    "        self.population = N\n",
    "        self.width = width\n",
    "        self.height = height\n",
    "        self.infection_spread_probab = infection_spread_probab\n",
    "        self.testing_probab = testing_probab\n",
    "        self.grid = SingleGrid(width, height, torus=True)\n",
    "        self.schedule = RandomActivation(self)\n",
    "        self.running = True\n",
    "        self.state = initial_state\n",
    "        self.datacollector = DataCollector(\n",
    "            model_reporters={'count': count_population},\n",
    "            agent_reporters={'State': compute_state}\n",
    "        )\n",
    "        \n",
    "        # Set state\n",
    "        for i in range(self.population):\n",
    "            s, inf, r, c = self.state\n",
    "            if 0 <= i < s:\n",
    "                person_state = State.SUSCEPTIBLE\n",
    "            elif s <= i < inf:\n",
    "                person_state = State.INFECTED\n",
    "            elif inf <= i < r:\n",
    "                person_state = State.RESISTANT\n",
    "            else:\n",
    "                person_state = State.CURED\n",
    "            person = Person(i, self, person_state)\n",
    "            self.schedule.add(person)\n",
    "            \n",
    "            # place the person somewhere randomly\n",
    "            pos = (0,0)\n",
    "            while(not self.grid.is_cell_empty(pos)):\n",
    "                x = self.random.randrange(self.grid.width)\n",
    "                y = self.random.randrange(self.grid.height)\n",
    "                pos = (x, y)\n",
    "            self.grid.place_agent(person, pos)\n",
    "    \n",
    "    def step(self):\n",
    "        # once everyone is cured, the model stops running\n",
    "        # assumption: a cured person can't get infected\n",
    "        self.schedule.step()\n",
    "        self.datacollector.collect(self)\n",
    "        print(self.state)"
   ]
  },
  {
   "cell_type": "code",
   "execution_count": 58,
   "metadata": {},
   "outputs": [
    {
     "name": "stdout",
     "output_type": "stream",
     "text": [
      "[3, 0, 0, 1]\n",
      "----\n",
      "[3, 0, 0, 1]\n",
      "----\n",
      "[3, 0, 0, 1]\n",
      "----\n",
      "[3, 0, 0, 1]\n",
      "----\n",
      "[3, 0, 0, 1]\n",
      "----\n",
      "[3, 0, 0, 1]\n",
      "----\n",
      "[3, 0, 0, 1]\n",
      "----\n",
      "[3, 0, 0, 1]\n",
      "----\n",
      "[3, 0, 0, 1]\n",
      "----\n",
      "[3, 0, 0, 1]\n",
      "----\n"
     ]
    }
   ],
   "source": [
    "model = Earth(4, 4,4,1,0.2,[3, 1, 0, 0])\n",
    "# something is going wrong here!\n",
    "for i in range(10):\n",
    "    model.step()\n",
    "    print('----')"
   ]
  },
  {
   "cell_type": "markdown",
   "metadata": {},
   "source": [
    "TODO: \n",
    "1. Visualize and Batch run: https://mesa.readthedocs.io/en/master/tutorials/intro_tutorial.html\n",
    "2. Improve model compared to https://dmnfarrell.github.io/bioinformatics/abm-mesa-python"
   ]
  }
 ],
 "metadata": {
  "kernelspec": {
   "display_name": "mesa_venv",
   "language": "python",
   "name": "mesa_venv"
  },
  "language_info": {
   "codemirror_mode": {
    "name": "ipython",
    "version": 3
   },
   "file_extension": ".py",
   "mimetype": "text/x-python",
   "name": "python",
   "nbconvert_exporter": "python",
   "pygments_lexer": "ipython3",
   "version": "3.7.0"
  }
 },
 "nbformat": 4,
 "nbformat_minor": 4
}
